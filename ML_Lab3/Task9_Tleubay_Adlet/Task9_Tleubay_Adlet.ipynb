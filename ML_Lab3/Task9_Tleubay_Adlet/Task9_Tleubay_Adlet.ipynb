{
 "cells": [
  {
   "cell_type": "code",
   "execution_count": 78,
   "id": "painted-pattern",
   "metadata": {
    "scrolled": true
   },
   "outputs": [
    {
     "name": "stdout",
     "output_type": "stream",
     "text": [
      "enter a number or 'e' to exit:1041\n",
      "10000010001\n",
      "5\n",
      "enter a number or 'e' to exit:32\n",
      "100000\n",
      "0\n",
      "enter a number or 'e' to exit:20\n",
      "10100\n",
      "1\n",
      "enter a number or 'e' to exit:e\n"
     ]
    }
   ],
   "source": [
    "import numpy \n",
    "\n",
    "running = True\n",
    "while(running):\n",
    "    \n",
    "    a = input(\"enter a number or 'e' to exit:\")\n",
    "    if a == 'e':\n",
    "        running = False\n",
    "        break\n",
    "    a_int = int(a)\n",
    "    b = numpy.binary_repr(a_int)\n",
    "    print(b)\n",
    "\n",
    "    cur_max = 0\n",
    "    checker = 0\n",
    "    temp = 0\n",
    "    for x in b:\n",
    "        if x == '0':\n",
    "            temp +=1\n",
    "\n",
    "        if x == '1':\n",
    "            checker += 1\n",
    "\n",
    "        if checker%2 == 0:\n",
    "            cur_max = max(temp, cur_max)\n",
    "            temp = 0\n",
    "\n",
    "    print(cur_max)"
   ]
  }
 ],
 "metadata": {
  "kernelspec": {
   "display_name": "Python 3",
   "language": "python",
   "name": "python3"
  },
  "language_info": {
   "codemirror_mode": {
    "name": "ipython",
    "version": 3
   },
   "file_extension": ".py",
   "mimetype": "text/x-python",
   "name": "python",
   "nbconvert_exporter": "python",
   "pygments_lexer": "ipython3",
   "version": "3.7.3"
  }
 },
 "nbformat": 4,
 "nbformat_minor": 5
}
