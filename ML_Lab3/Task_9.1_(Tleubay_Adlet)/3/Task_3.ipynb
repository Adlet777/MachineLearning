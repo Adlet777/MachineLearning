{
 "cells": [
  {
   "cell_type": "code",
   "execution_count": 1,
   "id": "ahead-station",
   "metadata": {
    "scrolled": true
   },
   "outputs": [
    {
     "name": "stdout",
     "output_type": "stream",
     "text": [
      "Введите размер массива или 'e' чтобы выйти: 5\n",
      "Размер рыбы 1: 4\n",
      "Размер рыбы 2: 3\n",
      "Размер рыбы 3: 2\n",
      "Размер рыбы 4: 1\n",
      "Размер рыбы 5: 5\n",
      "Направление движения рыбы 1: 0\n",
      "Направление движения рыбы 2: 1\n",
      "Направление движения рыбы 3: 0\n",
      "Направление движения рыбы 4: 0\n",
      "Направление движения рыбы 5: 0\n",
      "4 : 0\n",
      "3 : 1\n",
      "2 : 0\n",
      "1 : 0\n",
      "5 : 0\n",
      "\n",
      "Количество ВЫЖИВШИХ рыб равно: 2\n",
      "Введите размер массива или 'e' чтобы выйти: e\n"
     ]
    }
   ],
   "source": [
    "import numpy\n",
    "running = True\n",
    "\n",
    "while(running):\n",
    "    A = []\n",
    "    B = []\n",
    "    count = 0\n",
    "\n",
    "    size = input(\"Введите размер массива или 'e' чтобы выйти: \")\n",
    "    if size == 'e':\n",
    "        running = False\n",
    "        break\n",
    "\n",
    "    for x in range(0, int(size)):\n",
    "        a = input(\"Размер рыбы \" + str(x+1) + \": \")\n",
    "        A.append(int(a))\n",
    "\n",
    "    for x in range(0, int(size)):\n",
    "        a = input(\"Направление движения рыбы \" + str(x+1) + \": \")\n",
    "        B.append(int(a))\n",
    "\n",
    "    for x in range(0, int(size)):\n",
    "        print(str(A[x]) + \" : \" + str(B[x]))\n",
    "\n",
    "    print(\"\")\n",
    "    for x in range(0, int(size)):\n",
    "        for y in range(x+1, int(size)):\n",
    "            if B[x] == 1:\n",
    "                if B[y] == 0 and A[y] < A[x]:\n",
    "                    count += 1\n",
    "\n",
    "    print(\"Количество ВЫЖИВШИХ рыб равно: \" + str(B.count(0) - count))\n",
    "            \n",
    "    "
   ]
  }
 ],
 "metadata": {
  "kernelspec": {
   "display_name": "Python 3",
   "language": "python",
   "name": "python3"
  },
  "language_info": {
   "codemirror_mode": {
    "name": "ipython",
    "version": 3
   },
   "file_extension": ".py",
   "mimetype": "text/x-python",
   "name": "python",
   "nbconvert_exporter": "python",
   "pygments_lexer": "ipython3",
   "version": "3.7.3"
  }
 },
 "nbformat": 4,
 "nbformat_minor": 5
}
