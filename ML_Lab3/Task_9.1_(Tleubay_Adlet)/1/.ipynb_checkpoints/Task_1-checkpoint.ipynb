{
 "cells": [
  {
   "cell_type": "code",
   "execution_count": 42,
   "id": "bacterial-transcript",
   "metadata": {
    "scrolled": true
   },
   "outputs": [
    {
     "name": "stdout",
     "output_type": "stream",
     "text": [
      "Введите количество дисков: 6\n",
      "Введите радиус диска номер 0: 1\n",
      "Введите радиус диска номер 1: 5\n",
      "Введите радиус диска номер 2: 2\n",
      "Введите радиус диска номер 3: 1\n",
      "Введите радиус диска номер 4: 4\n",
      "Введите радиус диска номер 5: 0\n",
      "A[0]=1\n",
      "A[1]=5\n",
      "A[2]=2\n",
      "A[3]=1\n",
      "A[4]=4\n",
      "A[5]=0\n",
      "[[-4, -3, -2, -1, 0, 1, 2, 3, 4, 5, 6], [0, 1, 2, 3, 4, 5, 6, 7, 8], [0, 1, 2, 3, 4], [-1, 0, 1], [2, 3, 4], [5]]\n",
      "\n",
      "Ответ: 11\n",
      "Диски перескаются 11 раз!!!\n"
     ]
    }
   ],
   "source": [
    "import numpy\n",
    "\n",
    "a = input(\"Введите количество дисков: \")\n",
    "size = int(a)\n",
    "\n",
    "arr = []\n",
    "lists = []\n",
    "count = 0\n",
    "\n",
    "for x in range(0, size):\n",
    "    b = input(\"Введите радиус диска номер \" + str(x) + \": \")\n",
    "    arr.append(int(b))\n",
    "    \n",
    "for x in range(0, size):\n",
    "    print(\"A[\" + str(x) + \"]=\" + str(arr[x]))\n",
    "    \n",
    "    \n",
    "temp = []\n",
    "\n",
    "for x in range(0, size):\n",
    "    for y in range(x-arr[x], x+arr[x]+1):\n",
    "        temp.append(y)\n",
    "    \n",
    "#     print(temp)\n",
    "#     temp.sort()\n",
    "    lists.append(temp[:])\n",
    "    temp.clear()\n",
    "\n",
    "lists.sort(reverse=True, key = len)\n",
    "print(lists)\n",
    "\n",
    "for x in range(0, size):\n",
    "    for y in range(x+1, size):\n",
    "#             print(str(lists[x]) + \"/\" + str(lists[y]))\n",
    "            for k in range(0, len(lists[y])):\n",
    "                if (lists[y][k] in lists[x]):\n",
    "                    count+=1\n",
    "                    break\n",
    "\n",
    "\n",
    "print(\"\")\n",
    "print(\"Ответ: \" + str(count))\n",
    "print(\"Диски перескаются \" + str(count) + \" раз!!!\")\n"
   ]
  }
 ],
 "metadata": {
  "kernelspec": {
   "display_name": "Python 3",
   "language": "python",
   "name": "python3"
  },
  "language_info": {
   "codemirror_mode": {
    "name": "ipython",
    "version": 3
   },
   "file_extension": ".py",
   "mimetype": "text/x-python",
   "name": "python",
   "nbconvert_exporter": "python",
   "pygments_lexer": "ipython3",
   "version": "3.7.3"
  }
 },
 "nbformat": 4,
 "nbformat_minor": 5
}
