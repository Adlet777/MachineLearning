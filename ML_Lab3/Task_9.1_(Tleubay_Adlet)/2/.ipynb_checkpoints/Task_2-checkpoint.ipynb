{
 "cells": [
  {
   "cell_type": "code",
   "execution_count": 33,
   "id": "eligible-barbados",
   "metadata": {
    "scrolled": false
   },
   "outputs": [
    {
     "name": "stdout",
     "output_type": "stream",
     "text": [
      "Введите количество чисел в массиве: 7\n",
      "Введите элемент номер 0: 9\n",
      "Введите элемент номер 1: 3\n",
      "Введите элемент номер 2: 9\n",
      "Введите элемент номер 3: 3\n",
      "Введите элемент номер 4: 9\n",
      "Введите элемент номер 5: 7\n",
      "Введите элемент номер 6: 9\n",
      "Ответ: неповторяющийся элемент это - 7\n"
     ]
    }
   ],
   "source": [
    "import numpy\n",
    "\n",
    "array = []\n",
    "# myset = set()\n",
    "list = []\n",
    "size = input(\"Введите количество чисел в массиве: \")\n",
    "\n",
    "if(int(size)%2==0):\n",
    "    print(\"Ошибка! Количество должно быть нечетным!!!\")\n",
    "\n",
    "if(int(size)%2!=0):\n",
    "    for x in range(0, int(size)):\n",
    "        a = input(\"Введите элемент номер \" + str(x) + \": \")\n",
    "        array.append(a)\n",
    " \n",
    "array.sort()\n",
    "\n",
    "for x in range(0, int(size)):\n",
    "    for y in range(x+1, int(size)):\n",
    "        if array[x] == array[y]:\n",
    "            if list.count(x) > 0:\n",
    "                continue\n",
    "            if list.count(x) == 0:\n",
    "                list.append(x)\n",
    "                list.append(y)\n",
    "\n",
    "for x in range(0, len(list)):\n",
    "        if(list[x] != x):\n",
    "            print(\"Ответ: неповторяющийся элемент это - \" + str(array[x]))\n",
    "            break\n",
    "    "
   ]
  }
 ],
 "metadata": {
  "kernelspec": {
   "display_name": "Python 3",
   "language": "python",
   "name": "python3"
  },
  "language_info": {
   "codemirror_mode": {
    "name": "ipython",
    "version": 3
   },
   "file_extension": ".py",
   "mimetype": "text/x-python",
   "name": "python",
   "nbconvert_exporter": "python",
   "pygments_lexer": "ipython3",
   "version": "3.7.3"
  }
 },
 "nbformat": 4,
 "nbformat_minor": 5
}
